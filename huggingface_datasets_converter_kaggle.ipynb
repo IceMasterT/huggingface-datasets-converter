{
  "cells": [
    {
      "cell_type": "markdown",
      "metadata": {
        "id": "view-in-github",
        "colab_type": "text"
      },
      "source": [
        "<a href=\"https://colab.research.google.com/github/nateraw/huggingface-datasets-converter/blob/main/huggingface_datasets_converter_kaggle.ipynb\" target=\"_parent\"><img src=\"https://colab.research.google.com/assets/colab-badge.svg\" alt=\"Open In Colab\"/></a>"
      ]
    },
    {
      "cell_type": "markdown",
      "metadata": {
        "id": "Iqv2odZcwKnD"
      },
      "source": [
        "# The Hugging Face Datasets Converter (Kaggle)\n",
        "\n",
        "This notebook allows you to convert a Kaggle dataset to a Hugging Face dataset. \n",
        "\n",
        "Follow the 4 simple steps below to take an existing dataset on Kaggle and convert it to a Hugging Face dataset, which can then be loaded with the `datasets` library."
      ]
    },
    {
      "cell_type": "markdown",
      "metadata": {
        "id": "TGOpjXEZvx2q"
      },
      "source": [
        "# Step 1 - Setup\n",
        "\n",
        "Run the cell below to install required dependencies."
      ]
    },
    {
      "cell_type": "code",
      "execution_count": null,
      "metadata": {
        "id": "SF6KHSelR6n6"
      },
      "outputs": [],
      "source": [
        "%%capture\n",
        "! git clone https://github.com/nateraw/huggingface-datasets-converter.git\n",
        "%cd /content/huggingface-datasets-converter\n",
        "! pip install -r requirements.txt\n",
        "! git config --global credential.helper store"
      ]
    },
    {
      "cell_type": "markdown",
      "metadata": {
        "id": "-IWb91k6uoY7"
      },
      "source": [
        "# Step 2 - Authenticate with Kaggle\n",
        "\n",
        "Navigate to https://www.kaggle.com. Then go to the [Account tab of your user profile](https://www.kaggle.com/me/account) and select Create API Token. This will trigger the download of `kaggle.json`, a file containing your API credentials.\n",
        "\n",
        "Then run the cell below to upload kaggle.json to your Colab runtime.\n",
        "\n",
        "⚠️ It should be named exactly `kaggle.json`."
      ]
    },
    {
      "cell_type": "code",
      "execution_count": null,
      "metadata": {
        "id": "W3ZXT2hYr0GO"
      },
      "outputs": [],
      "source": [
        "from google.colab import files\n",
        "\n",
        "uploaded = files.upload()\n",
        "\n",
        "for name in uploaded.keys():\n",
        "  print(f'User uploaded file \"{name}\" with length {len(uploaded[name])} bytes')\n",
        "\n",
        "# Then move kaggle.json into the folder where the API expects to find t.\n",
        "!mkdir -p ~/.kaggle/ && mv kaggle.json ~/.kaggle/ && chmod 600 ~/.kaggle/kaggle.json"
      ]
    },
    {
      "cell_type": "markdown",
      "metadata": {
        "id": "W_Ly0RiFkCC6"
      },
      "source": [
        "Alternatively, you can upload the `kaggle.json` file manually to your working directory (probably the \"content\" folder) or using your Google Drive account ([see this](https://colab.research.google.com/notebooks/io.ipynb) for examples). Then run: \n",
        "\n",
        "```\n",
        "!mkdir -p ~/.kaggle/ && mv kaggle.json ~/.kaggle/ && chmod 600 ~/.kaggle/kaggle.json\n",
        "```"
      ]
    },
    {
      "cell_type": "markdown",
      "metadata": {
        "id": "KWHb2bVFvNQt"
      },
      "source": [
        "# Step 3 - Authenticate with Hugging Face 🤗\n",
        "\n",
        "You'll need to authenticate with your Hugging Face account, so make sure to [sign up](https://huggingface.co/join) if you haven't already. \n",
        "\n",
        "Then, run the cell below and provide a token that has ***write access***\n",
        "\n"
      ]
    },
    {
      "cell_type": "code",
      "execution_count": null,
      "metadata": {
        "id": "jc4tD9APixHM"
      },
      "outputs": [],
      "source": [
        "from huggingface_hub import notebook_login\n",
        "\n",
        "notebook_login()"
      ]
    },
    {
      "cell_type": "markdown",
      "metadata": {
        "id": "E9QKRsQNuJcI"
      },
      "source": [
        "# Step 4 - Convert From Kaggle\n",
        "\n",
        "Below, input the:\n",
        "\n",
        "- Kaggle ID of the dataset you'd like to upload (ex. `kaggleuser/dataset-name`)\n",
        "- Repo ID of the dataset repo you'd like to upload to (ex. `huggingface-user/dataset-name`).\n",
        "\n",
        "💡 You can find the Kaggle ID in the dataset URL.\n",
        "\n",
        "For example: if you want to convert [this dataset](https://www.kaggle.com/datasets/ruchi798/data-science-job-salaries), the ID is `ruchi798/data-science-job-salaries`.\n",
        "\n",
        "> 📝 **Note** - The converter works best on csv and json datasets, so we suggest you use one of those :)"
      ]
    },
    {
      "cell_type": "code",
      "source": [
        "from huggingface_datasets_converter.convert import notebook_converter_kaggle\n",
        "\n",
        "notebook_converter_kaggle()"
      ],
      "metadata": {
        "id": "himTovKElrZe"
      },
      "execution_count": null,
      "outputs": []
    }
  ],
  "metadata": {
    "colab": {
      "collapsed_sections": [],
      "provenance": [],
      "include_colab_link": true
    },
    "kernelspec": {
      "display_name": "Python 3",
      "name": "python3"
    },
    "language_info": {
      "name": "python"
    }
  },
  "nbformat": 4,
  "nbformat_minor": 0
}